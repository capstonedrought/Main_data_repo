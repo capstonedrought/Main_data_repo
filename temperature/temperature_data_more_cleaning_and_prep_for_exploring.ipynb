{
 "cells": [
  {
   "cell_type": "markdown",
   "metadata": {},
   "source": [
    "# Imports"
   ]
  },
  {
   "cell_type": "code",
   "execution_count": 1,
   "metadata": {},
   "outputs": [],
   "source": [
    "import pandas as pd"
   ]
  },
  {
   "cell_type": "markdown",
   "metadata": {},
   "source": [
    "# Bring in Data"
   ]
  },
  {
   "cell_type": "code",
   "execution_count": 2,
   "metadata": {},
   "outputs": [],
   "source": [
    "bexar = pd.read_csv(\"bexar_county_temp_data.csv\")"
   ]
  },
  {
   "cell_type": "markdown",
   "metadata": {},
   "source": [
    "# Clean up Data"
   ]
  },
  {
   "cell_type": "code",
   "execution_count": 3,
   "metadata": {},
   "outputs": [],
   "source": [
    "bexar.drop(columns=['Unnamed: 0','county_name'], inplace=True)"
   ]
  },
  {
   "cell_type": "markdown",
   "metadata": {},
   "source": [
    "# Melt"
   ]
  },
  {
   "cell_type": "code",
   "execution_count": 4,
   "metadata": {},
   "outputs": [
    {
     "data": {
      "text/html": [
       "<div>\n",
       "<style scoped>\n",
       "    .dataframe tbody tr th:only-of-type {\n",
       "        vertical-align: middle;\n",
       "    }\n",
       "\n",
       "    .dataframe tbody tr th {\n",
       "        vertical-align: top;\n",
       "    }\n",
       "\n",
       "    .dataframe thead th {\n",
       "        text-align: right;\n",
       "    }\n",
       "</style>\n",
       "<table border=\"1\" class=\"dataframe\">\n",
       "  <thead>\n",
       "    <tr style=\"text-align: right;\">\n",
       "      <th></th>\n",
       "      <th>year</th>\n",
       "      <th>dtype</th>\n",
       "      <th>jan</th>\n",
       "      <th>feb</th>\n",
       "      <th>mar</th>\n",
       "      <th>apr</th>\n",
       "      <th>may</th>\n",
       "      <th>jun</th>\n",
       "      <th>jul</th>\n",
       "      <th>aug</th>\n",
       "      <th>sep</th>\n",
       "      <th>oct</th>\n",
       "      <th>nov</th>\n",
       "      <th>dec</th>\n",
       "    </tr>\n",
       "  </thead>\n",
       "  <tbody>\n",
       "    <tr>\n",
       "      <th>0</th>\n",
       "      <td>1895</td>\n",
       "      <td>max</td>\n",
       "      <td>24.96</td>\n",
       "      <td>27.88</td>\n",
       "      <td>35.51</td>\n",
       "      <td>55.49</td>\n",
       "      <td>57.78</td>\n",
       "      <td>61.16</td>\n",
       "      <td>71.82</td>\n",
       "      <td>72.84</td>\n",
       "      <td>60.75</td>\n",
       "      <td>53.69</td>\n",
       "      <td>35.69</td>\n",
       "      <td>26.87</td>\n",
       "    </tr>\n",
       "    <tr>\n",
       "      <th>1</th>\n",
       "      <td>1896</td>\n",
       "      <td>max</td>\n",
       "      <td>31.26</td>\n",
       "      <td>37.78</td>\n",
       "      <td>34.07</td>\n",
       "      <td>44.98</td>\n",
       "      <td>50.85</td>\n",
       "      <td>72.19</td>\n",
       "      <td>73.76</td>\n",
       "      <td>72.12</td>\n",
       "      <td>57.15</td>\n",
       "      <td>52.20</td>\n",
       "      <td>23.40</td>\n",
       "      <td>37.27</td>\n",
       "    </tr>\n",
       "    <tr>\n",
       "      <th>2</th>\n",
       "      <td>1897</td>\n",
       "      <td>max</td>\n",
       "      <td>29.66</td>\n",
       "      <td>29.64</td>\n",
       "      <td>28.72</td>\n",
       "      <td>47.17</td>\n",
       "      <td>64.49</td>\n",
       "      <td>63.23</td>\n",
       "      <td>70.12</td>\n",
       "      <td>72.63</td>\n",
       "      <td>66.13</td>\n",
       "      <td>47.19</td>\n",
       "      <td>33.24</td>\n",
       "      <td>24.42</td>\n",
       "    </tr>\n",
       "    <tr>\n",
       "      <th>3</th>\n",
       "      <td>1898</td>\n",
       "      <td>max</td>\n",
       "      <td>20.93</td>\n",
       "      <td>36.00</td>\n",
       "      <td>30.72</td>\n",
       "      <td>50.59</td>\n",
       "      <td>51.98</td>\n",
       "      <td>65.82</td>\n",
       "      <td>73.15</td>\n",
       "      <td>73.62</td>\n",
       "      <td>62.11</td>\n",
       "      <td>43.14</td>\n",
       "      <td>31.19</td>\n",
       "      <td>24.42</td>\n",
       "    </tr>\n",
       "    <tr>\n",
       "      <th>4</th>\n",
       "      <td>1899</td>\n",
       "      <td>max</td>\n",
       "      <td>26.47</td>\n",
       "      <td>18.82</td>\n",
       "      <td>28.90</td>\n",
       "      <td>45.72</td>\n",
       "      <td>52.93</td>\n",
       "      <td>65.16</td>\n",
       "      <td>76.28</td>\n",
       "      <td>71.04</td>\n",
       "      <td>65.61</td>\n",
       "      <td>47.19</td>\n",
       "      <td>41.25</td>\n",
       "      <td>27.46</td>\n",
       "    </tr>\n",
       "  </tbody>\n",
       "</table>\n",
       "</div>"
      ],
      "text/plain": [
       "   year dtype    jan    feb    mar    apr    may    jun    jul    aug    sep  \\\n",
       "0  1895   max  24.96  27.88  35.51  55.49  57.78  61.16  71.82  72.84  60.75   \n",
       "1  1896   max  31.26  37.78  34.07  44.98  50.85  72.19  73.76  72.12  57.15   \n",
       "2  1897   max  29.66  29.64  28.72  47.17  64.49  63.23  70.12  72.63  66.13   \n",
       "3  1898   max  20.93  36.00  30.72  50.59  51.98  65.82  73.15  73.62  62.11   \n",
       "4  1899   max  26.47  18.82  28.90  45.72  52.93  65.16  76.28  71.04  65.61   \n",
       "\n",
       "     oct    nov    dec  \n",
       "0  53.69  35.69  26.87  \n",
       "1  52.20  23.40  37.27  \n",
       "2  47.19  33.24  24.42  \n",
       "3  43.14  31.19  24.42  \n",
       "4  47.19  41.25  27.46  "
      ]
     },
     "execution_count": 4,
     "metadata": {},
     "output_type": "execute_result"
    }
   ],
   "source": [
    "bexar.head()"
   ]
  },
  {
   "cell_type": "code",
   "execution_count": 5,
   "metadata": {},
   "outputs": [],
   "source": [
    "melt = pd.melt(bexar, id_vars=['year','dtype'], var_name='month', value_name='temp')"
   ]
  },
  {
   "cell_type": "code",
   "execution_count": 6,
   "metadata": {},
   "outputs": [],
   "source": [
    "melt.replace({'month' : { \n",
    "    'jan' : '01',\n",
    "    'feb' : '02',\n",
    "    'mar' : '03',\n",
    "    'apr': '04',\n",
    "    'may': '05',\n",
    "    'jun': '06',\n",
    "    'jul': '07',\n",
    "    'aug': '08',\n",
    "    'sep': '09',\n",
    "    'oct': '10',\n",
    "    'nov': '11',\n",
    "    'dec': '12'\n",
    "}}, inplace=True)"
   ]
  },
  {
   "cell_type": "code",
   "execution_count": 7,
   "metadata": {},
   "outputs": [],
   "source": [
    "melt.sort_values(by=['year','month'], inplace=True)"
   ]
  },
  {
   "cell_type": "code",
   "execution_count": 8,
   "metadata": {},
   "outputs": [],
   "source": [
    "melt[\"date\"] = melt[\"year\"].map(str) + '/' +melt[\"month\"]"
   ]
  },
  {
   "cell_type": "code",
   "execution_count": 9,
   "metadata": {},
   "outputs": [],
   "source": [
    "melt[\"date\"] = pd.to_datetime(melt['date'], format='%Y-%m')"
   ]
  },
  {
   "cell_type": "code",
   "execution_count": 10,
   "metadata": {},
   "outputs": [],
   "source": [
    "melt.drop(columns=['year','month'], inplace=True)"
   ]
  },
  {
   "cell_type": "code",
   "execution_count": 11,
   "metadata": {},
   "outputs": [],
   "source": [
    "melt.dropna(inplace=True)"
   ]
  },
  {
   "cell_type": "code",
   "execution_count": 12,
   "metadata": {},
   "outputs": [],
   "source": [
    "melt.drop(melt.index[-12:], inplace=True)"
   ]
  },
  {
   "cell_type": "code",
   "execution_count": 13,
   "metadata": {},
   "outputs": [],
   "source": [
    "melt = melt.set_index('date')"
   ]
  },
  {
   "cell_type": "code",
   "execution_count": 14,
   "metadata": {},
   "outputs": [
    {
     "data": {
      "text/html": [
       "<div>\n",
       "<style scoped>\n",
       "    .dataframe tbody tr th:only-of-type {\n",
       "        vertical-align: middle;\n",
       "    }\n",
       "\n",
       "    .dataframe tbody tr th {\n",
       "        vertical-align: top;\n",
       "    }\n",
       "\n",
       "    .dataframe thead th {\n",
       "        text-align: right;\n",
       "    }\n",
       "</style>\n",
       "<table border=\"1\" class=\"dataframe\">\n",
       "  <thead>\n",
       "    <tr style=\"text-align: right;\">\n",
       "      <th></th>\n",
       "      <th>dtype</th>\n",
       "      <th>temp</th>\n",
       "    </tr>\n",
       "    <tr>\n",
       "      <th>date</th>\n",
       "      <th></th>\n",
       "      <th></th>\n",
       "    </tr>\n",
       "  </thead>\n",
       "  <tbody>\n",
       "    <tr>\n",
       "      <th>2018-11-01</th>\n",
       "      <td>avg</td>\n",
       "      <td>26.73</td>\n",
       "    </tr>\n",
       "    <tr>\n",
       "      <th>2018-11-01</th>\n",
       "      <td>min</td>\n",
       "      <td>16.84</td>\n",
       "    </tr>\n",
       "    <tr>\n",
       "      <th>2018-12-01</th>\n",
       "      <td>max</td>\n",
       "      <td>30.33</td>\n",
       "    </tr>\n",
       "    <tr>\n",
       "      <th>2018-12-01</th>\n",
       "      <td>avg</td>\n",
       "      <td>20.64</td>\n",
       "    </tr>\n",
       "    <tr>\n",
       "      <th>2018-12-01</th>\n",
       "      <td>min</td>\n",
       "      <td>10.96</td>\n",
       "    </tr>\n",
       "  </tbody>\n",
       "</table>\n",
       "</div>"
      ],
      "text/plain": [
       "           dtype   temp\n",
       "date                   \n",
       "2018-11-01   avg  26.73\n",
       "2018-11-01   min  16.84\n",
       "2018-12-01   max  30.33\n",
       "2018-12-01   avg  20.64\n",
       "2018-12-01   min  10.96"
      ]
     },
     "execution_count": 14,
     "metadata": {},
     "output_type": "execute_result"
    }
   ],
   "source": [
    "melt.tail()"
   ]
  },
  {
   "cell_type": "code",
   "execution_count": 16,
   "metadata": {},
   "outputs": [],
   "source": [
    "# melt.to_csv(r'/Users/codywatson/desktop/water_conservation_proposal/temperature_data_cleaned_and_prepped_for_exploration.csv')"
   ]
  }
 ],
 "metadata": {
  "kernelspec": {
   "display_name": "Python 3",
   "language": "python",
   "name": "python3"
  },
  "language_info": {
   "codemirror_mode": {
    "name": "ipython",
    "version": 3
   },
   "file_extension": ".py",
   "mimetype": "text/x-python",
   "name": "python",
   "nbconvert_exporter": "python",
   "pygments_lexer": "ipython3",
   "version": "3.7.1"
  }
 },
 "nbformat": 4,
 "nbformat_minor": 2
}
