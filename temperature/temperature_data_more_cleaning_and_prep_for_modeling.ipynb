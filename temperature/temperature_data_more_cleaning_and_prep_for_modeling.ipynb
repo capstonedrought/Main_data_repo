{
 "cells": [
  {
   "cell_type": "markdown",
   "metadata": {},
   "source": [
    "# Imports"
   ]
  },
  {
   "cell_type": "code",
   "execution_count": 1,
   "metadata": {},
   "outputs": [],
   "source": [
    "import pandas as pd"
   ]
  },
  {
   "cell_type": "markdown",
   "metadata": {},
   "source": [
    "# Bring in Data"
   ]
  },
  {
   "cell_type": "code",
   "execution_count": 2,
   "metadata": {},
   "outputs": [],
   "source": [
    "bexar = pd.read_csv(\"bexar_county_temp_data.csv\")"
   ]
  },
  {
   "cell_type": "markdown",
   "metadata": {},
   "source": [
    "# Clean up Data"
   ]
  },
  {
   "cell_type": "code",
   "execution_count": 3,
   "metadata": {},
   "outputs": [],
   "source": [
    "bexar.drop(columns='Unnamed: 0', inplace=True)"
   ]
  },
  {
   "cell_type": "markdown",
   "metadata": {},
   "source": [
    "# Split the Original Dataframe into Dataframes Based on the Dtype Column"
   ]
  },
  {
   "cell_type": "code",
   "execution_count": 4,
   "metadata": {},
   "outputs": [],
   "source": [
    "bexar_min = bexar.loc[bexar['dtype'] == 'min']\n",
    "bexar_max = bexar.loc[bexar['dtype'] == 'max']\n",
    "bexar_avg = bexar.loc[bexar['dtype'] == 'avg']"
   ]
  },
  {
   "cell_type": "markdown",
   "metadata": {},
   "source": [
    "# Remove all columns not needed for the analysis"
   ]
  },
  {
   "cell_type": "code",
   "execution_count": 5,
   "metadata": {},
   "outputs": [
    {
     "name": "stderr",
     "output_type": "stream",
     "text": [
      "/usr/local/anaconda3/lib/python3.7/site-packages/pandas/core/frame.py:3697: SettingWithCopyWarning: \n",
      "A value is trying to be set on a copy of a slice from a DataFrame\n",
      "\n",
      "See the caveats in the documentation: http://pandas.pydata.org/pandas-docs/stable/indexing.html#indexing-view-versus-copy\n",
      "  errors=errors)\n"
     ]
    }
   ],
   "source": [
    "bexar_max.drop(columns=['county_name','dtype'], inplace=True)\n",
    "bexar_min.drop(columns=['county_name','dtype'], inplace=True)\n",
    "bexar_avg.drop(columns=['county_name','dtype'], inplace=True)"
   ]
  },
  {
   "cell_type": "markdown",
   "metadata": {},
   "source": [
    "# Melt all the DFs\n",
    "This is needed because the dataframes are currently split into seperate columns by month and this will make the analysis more difficult in terms of data manipulation"
   ]
  },
  {
   "cell_type": "code",
   "execution_count": 6,
   "metadata": {},
   "outputs": [],
   "source": [
    "melt_max = pd.melt(bexar_max, id_vars=['year'], var_name='month', value_name='max_temp')\n",
    "melt_min = pd.melt(bexar_min, id_vars=['year'], var_name='month', value_name='min_temp')\n",
    "melt_avg = pd.melt(bexar_avg, id_vars=['year'], var_name='month', value_name='avg_temp')"
   ]
  },
  {
   "cell_type": "markdown",
   "metadata": {},
   "source": [
    "# Convert the months from three letter format to two number format this will make it easier to make a date column by combining it with the year"
   ]
  },
  {
   "cell_type": "code",
   "execution_count": 7,
   "metadata": {},
   "outputs": [],
   "source": [
    "melt_max.replace({'month' : { \n",
    "    'jan' : '01',\n",
    "    'feb' : '02',\n",
    "    'mar' : '03',\n",
    "    'apr': '04',\n",
    "    'may': '05',\n",
    "    'jun': '06',\n",
    "    'jul': '07',\n",
    "    'aug': '08',\n",
    "    'sep': '09',\n",
    "    'oct': '10',\n",
    "    'nov': '11',\n",
    "    'dec': '12'\n",
    "}}, inplace=True)\n",
    "melt_min.replace({'month' : { \n",
    "    'jan' : '01',\n",
    "    'feb' : '02',\n",
    "    'mar' : '03',\n",
    "    'apr': '04',\n",
    "    'may': '05',\n",
    "    'jun': '06',\n",
    "    'jul': '07',\n",
    "    'aug': '08',\n",
    "    'sep': '09',\n",
    "    'oct': '10',\n",
    "    'nov': '11',\n",
    "    'dec': '12'\n",
    "}}, inplace=True)\n",
    "melt_avg.replace({'month' : { \n",
    "    'jan' : '01',\n",
    "    'feb' : '02',\n",
    "    'mar' : '03',\n",
    "    'apr': '04',\n",
    "    'may': '05',\n",
    "    'jun': '06',\n",
    "    'jul': '07',\n",
    "    'aug': '08',\n",
    "    'sep': '09',\n",
    "    'oct': '10',\n",
    "    'nov': '11',\n",
    "    'dec': '12'\n",
    "}}, inplace=True)"
   ]
  },
  {
   "cell_type": "markdown",
   "metadata": {},
   "source": [
    "# Sort the rows by year and month so that they are ordered chronologically"
   ]
  },
  {
   "cell_type": "code",
   "execution_count": 8,
   "metadata": {},
   "outputs": [],
   "source": [
    "melt_max.sort_values(by=['year','month'], inplace=True)\n",
    "melt_min.sort_values(by=['year','month'], inplace=True)\n",
    "melt_avg.sort_values(by=['year','month'], inplace=True)"
   ]
  },
  {
   "cell_type": "markdown",
   "metadata": {},
   "source": [
    "# Combine the year and month columns"
   ]
  },
  {
   "cell_type": "code",
   "execution_count": 9,
   "metadata": {},
   "outputs": [],
   "source": [
    "melt_max[\"date\"] = melt_max[\"year\"].map(str) + '/' +melt_max[\"month\"]\n",
    "melt_min[\"date\"] = melt_min[\"year\"].map(str) + '/' +melt_min[\"month\"]\n",
    "melt_avg[\"date\"] = melt_avg[\"year\"].map(str) + '/' +melt_avg[\"month\"]"
   ]
  },
  {
   "cell_type": "markdown",
   "metadata": {},
   "source": [
    "# Convert the new date column into a datetime type"
   ]
  },
  {
   "cell_type": "code",
   "execution_count": 10,
   "metadata": {},
   "outputs": [],
   "source": [
    "melt_max[\"date\"] = pd.to_datetime(melt_max['date'], format='%Y-%m')\n",
    "melt_min[\"date\"] = pd.to_datetime(melt_min['date'], format='%Y-%m')\n",
    "melt_avg[\"date\"] = pd.to_datetime(melt_avg['date'], format='%Y-%m')"
   ]
  },
  {
   "cell_type": "markdown",
   "metadata": {},
   "source": [
    "# Drop the old columns"
   ]
  },
  {
   "cell_type": "code",
   "execution_count": 11,
   "metadata": {},
   "outputs": [],
   "source": [
    "melt_max.drop(columns=['year','month'], inplace=True)\n",
    "melt_min.drop(columns=['year','month'], inplace=True)\n",
    "melt_avg.drop(columns=['year','month'], inplace=True)"
   ]
  },
  {
   "cell_type": "markdown",
   "metadata": {},
   "source": [
    "# Set the date column to the index"
   ]
  },
  {
   "cell_type": "code",
   "execution_count": 12,
   "metadata": {},
   "outputs": [],
   "source": [
    "melt_max = melt_max.set_index('date')\n",
    "melt_min = melt_min.set_index('date')\n",
    "melt_avg = melt_avg.set_index('date')"
   ]
  },
  {
   "cell_type": "markdown",
   "metadata": {},
   "source": [
    "# Drop the NaN's from the dataframe since the only NaN values are from future dates which have yet to be recorded"
   ]
  },
  {
   "cell_type": "code",
   "execution_count": 13,
   "metadata": {},
   "outputs": [],
   "source": [
    "melt_max.dropna(inplace=True)\n",
    "melt_min.dropna(inplace=True)\n",
    "melt_avg.dropna(inplace=True)"
   ]
  },
  {
   "cell_type": "markdown",
   "metadata": {},
   "source": [
    "# Merge all the dataframes together"
   ]
  },
  {
   "cell_type": "code",
   "execution_count": 14,
   "metadata": {},
   "outputs": [],
   "source": [
    "temp = pd.merge(melt_max, melt_min ,on='date')"
   ]
  },
  {
   "cell_type": "code",
   "execution_count": 15,
   "metadata": {},
   "outputs": [],
   "source": [
    "temperature_data_cleaned_and_prepped = pd.merge(temp, melt_avg, on='date')"
   ]
  },
  {
   "cell_type": "markdown",
   "metadata": {},
   "source": [
    "# Data is now cleaned and prepped"
   ]
  },
  {
   "cell_type": "code",
   "execution_count": 16,
   "metadata": {},
   "outputs": [
    {
     "data": {
      "text/html": [
       "<div>\n",
       "<style scoped>\n",
       "    .dataframe tbody tr th:only-of-type {\n",
       "        vertical-align: middle;\n",
       "    }\n",
       "\n",
       "    .dataframe tbody tr th {\n",
       "        vertical-align: top;\n",
       "    }\n",
       "\n",
       "    .dataframe thead th {\n",
       "        text-align: right;\n",
       "    }\n",
       "</style>\n",
       "<table border=\"1\" class=\"dataframe\">\n",
       "  <thead>\n",
       "    <tr style=\"text-align: right;\">\n",
       "      <th></th>\n",
       "      <th>max_temp</th>\n",
       "      <th>min_temp</th>\n",
       "      <th>avg_temp</th>\n",
       "    </tr>\n",
       "    <tr>\n",
       "      <th>date</th>\n",
       "      <th></th>\n",
       "      <th></th>\n",
       "      <th></th>\n",
       "    </tr>\n",
       "  </thead>\n",
       "  <tbody>\n",
       "    <tr>\n",
       "      <th>2018-12-01</th>\n",
       "      <td>30.33</td>\n",
       "      <td>10.96</td>\n",
       "      <td>20.64</td>\n",
       "    </tr>\n",
       "    <tr>\n",
       "      <th>2019-01-01</th>\n",
       "      <td>33.33</td>\n",
       "      <td>12.94</td>\n",
       "      <td>23.14</td>\n",
       "    </tr>\n",
       "    <tr>\n",
       "      <th>2019-02-01</th>\n",
       "      <td>25.39</td>\n",
       "      <td>5.27</td>\n",
       "      <td>15.33</td>\n",
       "    </tr>\n",
       "    <tr>\n",
       "      <th>2019-03-01</th>\n",
       "      <td>39.79</td>\n",
       "      <td>12.54</td>\n",
       "      <td>26.17</td>\n",
       "    </tr>\n",
       "    <tr>\n",
       "      <th>2019-04-01</th>\n",
       "      <td>48.74</td>\n",
       "      <td>27.63</td>\n",
       "      <td>38.17</td>\n",
       "    </tr>\n",
       "  </tbody>\n",
       "</table>\n",
       "</div>"
      ],
      "text/plain": [
       "            max_temp  min_temp  avg_temp\n",
       "date                                    \n",
       "2018-12-01     30.33     10.96     20.64\n",
       "2019-01-01     33.33     12.94     23.14\n",
       "2019-02-01     25.39      5.27     15.33\n",
       "2019-03-01     39.79     12.54     26.17\n",
       "2019-04-01     48.74     27.63     38.17"
      ]
     },
     "execution_count": 16,
     "metadata": {},
     "output_type": "execute_result"
    }
   ],
   "source": [
    "temperature_data_cleaned_and_prepped.tail()"
   ]
  },
  {
   "cell_type": "markdown",
   "metadata": {},
   "source": [
    "# Need to drop 2019 from the data because it only has cold months available and is skewing the data"
   ]
  },
  {
   "cell_type": "code",
   "execution_count": 17,
   "metadata": {},
   "outputs": [],
   "source": [
    "temperature_data_cleaned_and_prepped.reset_index(inplace=True)"
   ]
  },
  {
   "cell_type": "code",
   "execution_count": 18,
   "metadata": {},
   "outputs": [],
   "source": [
    "temperature_data_cleaned_and_prepped.drop(temperature_data_cleaned_and_prepped.index[-4:], inplace=True)"
   ]
  },
  {
   "cell_type": "markdown",
   "metadata": {},
   "source": [
    "# Cleaned and 2019 dropped"
   ]
  },
  {
   "cell_type": "markdown",
   "metadata": {},
   "source": [
    "# Turn the final dataframe into a csv"
   ]
  },
  {
   "cell_type": "code",
   "execution_count": 19,
   "metadata": {},
   "outputs": [],
   "source": [
    "# temperature_data_cleaned_and_prepped.to_csv(r'/Users/codywatson/desktop/water_conservation_proposal/temperature_data_cleaned_and_prepped.csv')"
   ]
  },
  {
   "cell_type": "code",
   "execution_count": 20,
   "metadata": {},
   "outputs": [
    {
     "name": "stdout",
     "output_type": "stream",
     "text": [
      "<class 'pandas.core.frame.DataFrame'>\n",
      "Int64Index: 1488 entries, 0 to 1487\n",
      "Data columns (total 4 columns):\n",
      "date        1488 non-null datetime64[ns]\n",
      "max_temp    1488 non-null float64\n",
      "min_temp    1488 non-null float64\n",
      "avg_temp    1488 non-null float64\n",
      "dtypes: datetime64[ns](1), float64(3)\n",
      "memory usage: 58.1 KB\n"
     ]
    }
   ],
   "source": [
    "temperature_data_cleaned_and_prepped.info()"
   ]
  },
  {
   "cell_type": "code",
   "execution_count": 21,
   "metadata": {},
   "outputs": [
    {
     "data": {
      "text/html": [
       "<div>\n",
       "<style scoped>\n",
       "    .dataframe tbody tr th:only-of-type {\n",
       "        vertical-align: middle;\n",
       "    }\n",
       "\n",
       "    .dataframe tbody tr th {\n",
       "        vertical-align: top;\n",
       "    }\n",
       "\n",
       "    .dataframe thead th {\n",
       "        text-align: right;\n",
       "    }\n",
       "</style>\n",
       "<table border=\"1\" class=\"dataframe\">\n",
       "  <thead>\n",
       "    <tr style=\"text-align: right;\">\n",
       "      <th></th>\n",
       "      <th>max_temp</th>\n",
       "      <th>min_temp</th>\n",
       "      <th>avg_temp</th>\n",
       "    </tr>\n",
       "  </thead>\n",
       "  <tbody>\n",
       "    <tr>\n",
       "      <th>count</th>\n",
       "      <td>1488.000000</td>\n",
       "      <td>1488.000000</td>\n",
       "      <td>1488.000000</td>\n",
       "    </tr>\n",
       "    <tr>\n",
       "      <th>mean</th>\n",
       "      <td>49.368602</td>\n",
       "      <td>26.141976</td>\n",
       "      <td>37.755961</td>\n",
       "    </tr>\n",
       "    <tr>\n",
       "      <th>std</th>\n",
       "      <td>16.988433</td>\n",
       "      <td>13.669994</td>\n",
       "      <td>15.282586</td>\n",
       "    </tr>\n",
       "    <tr>\n",
       "      <th>min</th>\n",
       "      <td>11.160000</td>\n",
       "      <td>-8.770000</td>\n",
       "      <td>1.200000</td>\n",
       "    </tr>\n",
       "    <tr>\n",
       "      <th>25%</th>\n",
       "      <td>34.052500</td>\n",
       "      <td>14.152500</td>\n",
       "      <td>24.090000</td>\n",
       "    </tr>\n",
       "    <tr>\n",
       "      <th>50%</th>\n",
       "      <td>48.980000</td>\n",
       "      <td>26.255000</td>\n",
       "      <td>37.830000</td>\n",
       "    </tr>\n",
       "    <tr>\n",
       "      <th>75%</th>\n",
       "      <td>63.962500</td>\n",
       "      <td>38.415000</td>\n",
       "      <td>51.222500</td>\n",
       "    </tr>\n",
       "    <tr>\n",
       "      <th>max</th>\n",
       "      <td>81.540000</td>\n",
       "      <td>52.050000</td>\n",
       "      <td>66.510000</td>\n",
       "    </tr>\n",
       "  </tbody>\n",
       "</table>\n",
       "</div>"
      ],
      "text/plain": [
       "          max_temp     min_temp     avg_temp\n",
       "count  1488.000000  1488.000000  1488.000000\n",
       "mean     49.368602    26.141976    37.755961\n",
       "std      16.988433    13.669994    15.282586\n",
       "min      11.160000    -8.770000     1.200000\n",
       "25%      34.052500    14.152500    24.090000\n",
       "50%      48.980000    26.255000    37.830000\n",
       "75%      63.962500    38.415000    51.222500\n",
       "max      81.540000    52.050000    66.510000"
      ]
     },
     "execution_count": 21,
     "metadata": {},
     "output_type": "execute_result"
    }
   ],
   "source": [
    "temperature_data_cleaned_and_prepped.describe()"
   ]
  },
  {
   "cell_type": "code",
   "execution_count": null,
   "metadata": {},
   "outputs": [],
   "source": []
  }
 ],
 "metadata": {
  "kernelspec": {
   "display_name": "Python 3",
   "language": "python",
   "name": "python3"
  },
  "language_info": {
   "codemirror_mode": {
    "name": "ipython",
    "version": 3
   },
   "file_extension": ".py",
   "mimetype": "text/x-python",
   "name": "python",
   "nbconvert_exporter": "python",
   "pygments_lexer": "ipython3",
   "version": "3.7.1"
  }
 },
 "nbformat": 4,
 "nbformat_minor": 2
}
