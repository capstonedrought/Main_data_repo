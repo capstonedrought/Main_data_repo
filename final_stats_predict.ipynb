{
 "cells": [
  {
   "cell_type": "code",
   "execution_count": 1,
   "metadata": {},
   "outputs": [],
   "source": [
    "import pandas as pd\n",
    "from datetime import timedelta\n",
    "import numpy as np\n",
    "import datetime\n",
    "from sklearn.preprocessing import MinMaxScaler"
   ]
  },
  {
   "cell_type": "code",
   "execution_count": 2,
   "metadata": {},
   "outputs": [],
   "source": [
    "def get_data():\n",
    "    df = pd.read_csv('south_central_moisture_data_1988_2017.csv')\n",
    "    df = df[['final_date', 'soil_moisture']]\n",
    "    mmscaler = MinMaxScaler(feature_range=(0, 1))\n",
    "    mmscaler.fit(df[['soil_moisture']])\n",
    "    df.soil_moisture = mmscaler.transform(df[['soil_moisture']])\n",
    "    df.final_date = pd.to_datetime(df.final_date)\n",
    "    df = df.set_index('final_date')\n",
    "    return df"
   ]
  },
  {
   "cell_type": "code",
   "execution_count": 3,
   "metadata": {},
   "outputs": [],
   "source": [
    "df = get_data()"
   ]
  },
  {
   "cell_type": "code",
   "execution_count": 4,
   "metadata": {},
   "outputs": [
    {
     "data": {
      "text/html": [
       "<div>\n",
       "<style scoped>\n",
       "    .dataframe tbody tr th:only-of-type {\n",
       "        vertical-align: middle;\n",
       "    }\n",
       "\n",
       "    .dataframe tbody tr th {\n",
       "        vertical-align: top;\n",
       "    }\n",
       "\n",
       "    .dataframe thead th {\n",
       "        text-align: right;\n",
       "    }\n",
       "</style>\n",
       "<table border=\"1\" class=\"dataframe\">\n",
       "  <thead>\n",
       "    <tr style=\"text-align: right;\">\n",
       "      <th></th>\n",
       "      <th>soil_moisture</th>\n",
       "    </tr>\n",
       "    <tr>\n",
       "      <th>final_date</th>\n",
       "      <th></th>\n",
       "    </tr>\n",
       "  </thead>\n",
       "  <tbody>\n",
       "    <tr>\n",
       "      <th>1988-03-01</th>\n",
       "      <td>0.598248</td>\n",
       "    </tr>\n",
       "    <tr>\n",
       "      <th>1988-03-08</th>\n",
       "      <td>0.583229</td>\n",
       "    </tr>\n",
       "    <tr>\n",
       "      <th>1988-03-15</th>\n",
       "      <td>0.529412</td>\n",
       "    </tr>\n",
       "    <tr>\n",
       "      <th>1988-03-22</th>\n",
       "      <td>0.698373</td>\n",
       "    </tr>\n",
       "    <tr>\n",
       "      <th>1988-03-29</th>\n",
       "      <td>0.624531</td>\n",
       "    </tr>\n",
       "  </tbody>\n",
       "</table>\n",
       "</div>"
      ],
      "text/plain": [
       "            soil_moisture\n",
       "final_date               \n",
       "1988-03-01       0.598248\n",
       "1988-03-08       0.583229\n",
       "1988-03-15       0.529412\n",
       "1988-03-22       0.698373\n",
       "1988-03-29       0.624531"
      ]
     },
     "execution_count": 4,
     "metadata": {},
     "output_type": "execute_result"
    }
   ],
   "source": [
    "df.head()"
   ]
  },
  {
   "cell_type": "code",
   "execution_count": 5,
   "metadata": {},
   "outputs": [],
   "source": [
    "def agg_data(df):\n",
    "    df_agg = df.soil_moisture.resample('M').agg('mean')\n",
    "    df_agg = df_agg['1997':]\n",
    "    df_agg = df_agg.to_frame(name=None)\n",
    "    return df_agg"
   ]
  },
  {
   "cell_type": "code",
   "execution_count": 6,
   "metadata": {},
   "outputs": [],
   "source": [
    "df_agg = agg_data(df)"
   ]
  },
  {
   "cell_type": "code",
   "execution_count": 7,
   "metadata": {},
   "outputs": [
    {
     "data": {
      "text/html": [
       "<div>\n",
       "<style scoped>\n",
       "    .dataframe tbody tr th:only-of-type {\n",
       "        vertical-align: middle;\n",
       "    }\n",
       "\n",
       "    .dataframe tbody tr th {\n",
       "        vertical-align: top;\n",
       "    }\n",
       "\n",
       "    .dataframe thead th {\n",
       "        text-align: right;\n",
       "    }\n",
       "</style>\n",
       "<table border=\"1\" class=\"dataframe\">\n",
       "  <thead>\n",
       "    <tr style=\"text-align: right;\">\n",
       "      <th></th>\n",
       "      <th>soil_moisture</th>\n",
       "    </tr>\n",
       "    <tr>\n",
       "      <th>final_date</th>\n",
       "      <th></th>\n",
       "    </tr>\n",
       "  </thead>\n",
       "  <tbody>\n",
       "    <tr>\n",
       "      <th>1997-01-31</th>\n",
       "      <td>0.557697</td>\n",
       "    </tr>\n",
       "    <tr>\n",
       "      <th>1997-02-28</th>\n",
       "      <td>0.766792</td>\n",
       "    </tr>\n",
       "    <tr>\n",
       "      <th>1997-03-31</th>\n",
       "      <td>0.948436</td>\n",
       "    </tr>\n",
       "    <tr>\n",
       "      <th>1997-04-30</th>\n",
       "      <td>0.989675</td>\n",
       "    </tr>\n",
       "    <tr>\n",
       "      <th>1997-05-31</th>\n",
       "      <td>0.977222</td>\n",
       "    </tr>\n",
       "  </tbody>\n",
       "</table>\n",
       "</div>"
      ],
      "text/plain": [
       "            soil_moisture\n",
       "final_date               \n",
       "1997-01-31       0.557697\n",
       "1997-02-28       0.766792\n",
       "1997-03-31       0.948436\n",
       "1997-04-30       0.989675\n",
       "1997-05-31       0.977222"
      ]
     },
     "execution_count": 7,
     "metadata": {},
     "output_type": "execute_result"
    }
   ],
   "source": [
    "df_agg.head()"
   ]
  },
  {
   "cell_type": "code",
   "execution_count": 8,
   "metadata": {},
   "outputs": [],
   "source": [
    "def find_outliers(df):\n",
    "    agg_mean = df_agg.soil_moisture.mean()\n",
    "    agg_stdev = df_agg.soil_moisture.std()\n",
    "    df_agg[\"lower_bound\"] = (agg_mean - (4*agg_stdev))\n",
    "    df_agg[\"sm_lb\"] = (df_agg.soil_moisture - df_agg.lower_bound)\n",
    "    df_agg['outside_normal'] = (df_agg.sm_lb < 1)\n",
    "    return df_agg"
   ]
  },
  {
   "cell_type": "code",
   "execution_count": 9,
   "metadata": {},
   "outputs": [],
   "source": [
    "df_agg = find_outliers(df_agg)"
   ]
  },
  {
   "cell_type": "code",
   "execution_count": 16,
   "metadata": {},
   "outputs": [],
   "source": [
    "csvname = 'four_week_soil_moisture_predictions.csv'\n",
    "def clean_predictions(csv_name):\n",
    "    predictions = pd.read_csv(csv_name)\n",
    "    predictions.rename(columns={'date':'final_date'}, inplace=True)\n",
    "    predictions.rename(columns={'predicted_soil_moisture':'soil_moisture'}, inplace=True)\n",
    "    mmscaler = MinMaxScaler(feature_range=(0, 1))\n",
    "    mmscaler.fit(predictions[['soil_moisture']])\n",
    "    predictions.soil_moisture = mmscaler.transform(predictions[['soil_moisture']])\n",
    "    predictions.final_date = pd.to_datetime(predictions.final_date)\n",
    "    predictions = predictions.set_index('final_date')\n",
    "    return predictions"
   ]
  },
  {
   "cell_type": "code",
   "execution_count": 20,
   "metadata": {},
   "outputs": [
    {
     "data": {
      "text/html": [
       "<div>\n",
       "<style scoped>\n",
       "    .dataframe tbody tr th:only-of-type {\n",
       "        vertical-align: middle;\n",
       "    }\n",
       "\n",
       "    .dataframe tbody tr th {\n",
       "        vertical-align: top;\n",
       "    }\n",
       "\n",
       "    .dataframe thead th {\n",
       "        text-align: right;\n",
       "    }\n",
       "</style>\n",
       "<table border=\"1\" class=\"dataframe\">\n",
       "  <thead>\n",
       "    <tr style=\"text-align: right;\">\n",
       "      <th></th>\n",
       "      <th>soil_moisture</th>\n",
       "    </tr>\n",
       "    <tr>\n",
       "      <th>final_date</th>\n",
       "      <th></th>\n",
       "    </tr>\n",
       "  </thead>\n",
       "  <tbody>\n",
       "    <tr>\n",
       "      <th>2018-01-07</th>\n",
       "      <td>0.000000</td>\n",
       "    </tr>\n",
       "    <tr>\n",
       "      <th>2018-01-14</th>\n",
       "      <td>1.000000</td>\n",
       "    </tr>\n",
       "    <tr>\n",
       "      <th>2018-01-21</th>\n",
       "      <td>0.783259</td>\n",
       "    </tr>\n",
       "    <tr>\n",
       "      <th>2018-01-28</th>\n",
       "      <td>0.837176</td>\n",
       "    </tr>\n",
       "  </tbody>\n",
       "</table>\n",
       "</div>"
      ],
      "text/plain": [
       "            soil_moisture\n",
       "final_date               \n",
       "2018-01-07       0.000000\n",
       "2018-01-14       1.000000\n",
       "2018-01-21       0.783259\n",
       "2018-01-28       0.837176"
      ]
     },
     "execution_count": 20,
     "metadata": {},
     "output_type": "execute_result"
    }
   ],
   "source": [
    "clean_predictions()"
   ]
  },
  {
   "cell_type": "code",
   "execution_count": null,
   "metadata": {},
   "outputs": [],
   "source": []
  }
 ],
 "metadata": {
  "kernelspec": {
   "display_name": "Python 3",
   "language": "python",
   "name": "python3"
  },
  "language_info": {
   "codemirror_mode": {
    "name": "ipython",
    "version": 3
   },
   "file_extension": ".py",
   "mimetype": "text/x-python",
   "name": "python",
   "nbconvert_exporter": "python",
   "pygments_lexer": "ipython3",
   "version": "3.7.1"
  }
 },
 "nbformat": 4,
 "nbformat_minor": 2
}
