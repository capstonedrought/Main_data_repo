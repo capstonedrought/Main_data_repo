{
 "cells": [
  {
   "cell_type": "code",
   "execution_count": 1,
   "metadata": {},
   "outputs": [],
   "source": [
    "import pandas as pd"
   ]
  },
  {
   "cell_type": "code",
   "execution_count": 2,
   "metadata": {},
   "outputs": [
    {
     "name": "stderr",
     "output_type": "stream",
     "text": [
      "/usr/local/anaconda3/lib/python3.7/site-packages/ipykernel_launcher.py:1: ParserWarning: Falling back to the 'python' engine because the 'c' engine does not support regex separators (separators > 1 char and different from '\\s+' are interpreted as regex); you can avoid this warning by specifying engine='python'.\n",
      "  \"\"\"Entry point for launching an IPython kernel.\n"
     ]
    }
   ],
   "source": [
    "climdiv_tmaxcy_texas = pd.read_csv(\"nclimdv/climdiv_tmaxcy_texas.csv\", sep=\"  \", dtype={'state_fips_year':'str'})"
   ]
  },
  {
   "cell_type": "code",
   "execution_count": 3,
   "metadata": {},
   "outputs": [],
   "source": [
    "texas_max = climdiv_tmaxcy_texas"
   ]
  },
  {
   "cell_type": "code",
   "execution_count": 4,
   "metadata": {},
   "outputs": [],
   "source": [
    "texas_max['state_fips_year'] = texas_max['state_fips_year'].astype(str)\n",
    "texas_max['state'] = texas_max['state_fips_year'].str[0:2]\n",
    "texas_max['fips'] = texas_max['state_fips_year'].str[2:5]\n",
    "texas_max['dtype'] = texas_max['state_fips_year'].str[5:7]\n",
    "texas_max['year'] = texas_max['state_fips_year'].str[7:12]"
   ]
  },
  {
   "cell_type": "code",
   "execution_count": 5,
   "metadata": {},
   "outputs": [],
   "source": [
    "texas_max = texas_max.reindex(columns=['year', 'fips', 'dtype', 'jan', 'feb', 'mar', 'apr', 'may', 'jun', 'jul', 'aug', 'sep',\n",
    "       'oct', 'nov', 'dec'])"
   ]
  },
  {
   "cell_type": "code",
   "execution_count": 6,
   "metadata": {},
   "outputs": [
    {
     "name": "stderr",
     "output_type": "stream",
     "text": [
      "/usr/local/anaconda3/lib/python3.7/site-packages/ipykernel_launcher.py:1: ParserWarning: Falling back to the 'python' engine because the 'c' engine does not support regex separators (separators > 1 char and different from '\\s+' are interpreted as regex); you can avoid this warning by specifying engine='python'.\n",
      "  \"\"\"Entry point for launching an IPython kernel.\n"
     ]
    }
   ],
   "source": [
    "climdiv_tmincy_texas = pd.read_csv(\"nclimdv/climdiv_tmincy_texas.csv\", sep=\"  \", dtype={'state_fips_year':'str'})"
   ]
  },
  {
   "cell_type": "code",
   "execution_count": 7,
   "metadata": {},
   "outputs": [],
   "source": [
    "texas_min = climdiv_tmincy_texas"
   ]
  },
  {
   "cell_type": "code",
   "execution_count": 8,
   "metadata": {},
   "outputs": [],
   "source": [
    "texas_min['state_fips_year'] = texas_min['state_fips_year'].astype(str)\n",
    "texas_min['state'] = texas_min['state_fips_year'].str[0:2]\n",
    "texas_min['fips'] = texas_min['state_fips_year'].str[2:5]\n",
    "texas_min['dtype'] = texas_min['state_fips_year'].str[5:7]\n",
    "texas_min['year'] = texas_min['state_fips_year'].str[7:12]"
   ]
  },
  {
   "cell_type": "code",
   "execution_count": 9,
   "metadata": {},
   "outputs": [],
   "source": [
    "texas_min = texas_min.reindex(columns=['year', 'fips', 'dtype', 'jan', 'feb', 'mar', 'apr', 'may', 'jun', 'jul', 'aug', 'sep',\n",
    "       'oct', 'nov', 'dec'])"
   ]
  },
  {
   "cell_type": "code",
   "execution_count": 10,
   "metadata": {},
   "outputs": [
    {
     "name": "stderr",
     "output_type": "stream",
     "text": [
      "/usr/local/anaconda3/lib/python3.7/site-packages/ipykernel_launcher.py:1: ParserWarning: Falling back to the 'python' engine because the 'c' engine does not support regex separators (separators > 1 char and different from '\\s+' are interpreted as regex); you can avoid this warning by specifying engine='python'.\n",
      "  \"\"\"Entry point for launching an IPython kernel.\n"
     ]
    }
   ],
   "source": [
    "climdiv_tmpccy_texas = pd.read_csv(\"nclimdv/climdiv_tmpccy_texas.csv\", sep=\"  \", dtype={'state_fips_year':'str'})"
   ]
  },
  {
   "cell_type": "code",
   "execution_count": 11,
   "metadata": {},
   "outputs": [],
   "source": [
    "texas_avg = climdiv_tmpccy_texas"
   ]
  },
  {
   "cell_type": "code",
   "execution_count": 12,
   "metadata": {},
   "outputs": [],
   "source": [
    "texas_avg['state_fips_year'] = texas_avg['state_fips_year'].astype(str)\n",
    "texas_avg['state'] = texas_avg['state_fips_year'].str[0:2]\n",
    "texas_avg['fips'] = texas_avg['state_fips_year'].str[2:5]\n",
    "texas_avg['dtype'] = texas_avg['state_fips_year'].str[5:7]\n",
    "texas_avg['year'] = texas_avg['state_fips_year'].str[7:12]"
   ]
  },
  {
   "cell_type": "code",
   "execution_count": 13,
   "metadata": {},
   "outputs": [],
   "source": [
    "texas_avg = texas_avg.reindex(columns=['year', 'fips', 'dtype', 'jan', 'feb', 'mar', 'apr', 'may', 'jun', 'jul', 'aug', 'sep',\n",
    "       'oct', 'nov', 'dec'])"
   ]
  },
  {
   "cell_type": "code",
   "execution_count": 14,
   "metadata": {},
   "outputs": [],
   "source": [
    "texas_max.dtype = 'max'\n",
    "texas_min.dtype = 'min'\n",
    "texas_avg.dtype = 'avg'"
   ]
  },
  {
   "cell_type": "code",
   "execution_count": 18,
   "metadata": {},
   "outputs": [],
   "source": [
    "fips_master = pd.read_csv(\"locational_data/fips_master.csv\", sep=\"\\t\", dtype={'fips':'str'})"
   ]
  },
  {
   "cell_type": "code",
   "execution_count": 19,
   "metadata": {},
   "outputs": [],
   "source": [
    "all_temp = pd.concat([texas_max, texas_avg, texas_min], ignore_index=True)"
   ]
  },
  {
   "cell_type": "code",
   "execution_count": 23,
   "metadata": {},
   "outputs": [
    {
     "data": {
      "text/html": [
       "<div>\n",
       "<style scoped>\n",
       "    .dataframe tbody tr th:only-of-type {\n",
       "        vertical-align: middle;\n",
       "    }\n",
       "\n",
       "    .dataframe tbody tr th {\n",
       "        vertical-align: top;\n",
       "    }\n",
       "\n",
       "    .dataframe thead th {\n",
       "        text-align: right;\n",
       "    }\n",
       "</style>\n",
       "<table border=\"1\" class=\"dataframe\">\n",
       "  <thead>\n",
       "    <tr style=\"text-align: right;\">\n",
       "      <th></th>\n",
       "      <th>year</th>\n",
       "      <th>fips</th>\n",
       "      <th>dtype</th>\n",
       "      <th>jan</th>\n",
       "      <th>feb</th>\n",
       "      <th>mar</th>\n",
       "      <th>apr</th>\n",
       "      <th>may</th>\n",
       "      <th>jun</th>\n",
       "      <th>jul</th>\n",
       "      <th>aug</th>\n",
       "      <th>sep</th>\n",
       "      <th>oct</th>\n",
       "      <th>nov</th>\n",
       "      <th>dec</th>\n",
       "    </tr>\n",
       "  </thead>\n",
       "  <tbody>\n",
       "    <tr>\n",
       "      <th>0</th>\n",
       "      <td>1895</td>\n",
       "      <td>001</td>\n",
       "      <td>max</td>\n",
       "      <td>24.53</td>\n",
       "      <td>26.04</td>\n",
       "      <td>36.77</td>\n",
       "      <td>53.08</td>\n",
       "      <td>56.35</td>\n",
       "      <td>64.69</td>\n",
       "      <td>72.09</td>\n",
       "      <td>74.28</td>\n",
       "      <td>69.40</td>\n",
       "      <td>55.02</td>\n",
       "      <td>36.77</td>\n",
       "      <td>24.84</td>\n",
       "    </tr>\n",
       "    <tr>\n",
       "      <th>1</th>\n",
       "      <td>1896</td>\n",
       "      <td>001</td>\n",
       "      <td>max</td>\n",
       "      <td>35.89</td>\n",
       "      <td>34.50</td>\n",
       "      <td>33.57</td>\n",
       "      <td>47.91</td>\n",
       "      <td>61.27</td>\n",
       "      <td>72.57</td>\n",
       "      <td>75.83</td>\n",
       "      <td>76.46</td>\n",
       "      <td>65.75</td>\n",
       "      <td>55.56</td>\n",
       "      <td>34.52</td>\n",
       "      <td>38.98</td>\n",
       "    </tr>\n",
       "    <tr>\n",
       "      <th>2</th>\n",
       "      <td>1897</td>\n",
       "      <td>001</td>\n",
       "      <td>max</td>\n",
       "      <td>28.06</td>\n",
       "      <td>29.01</td>\n",
       "      <td>33.93</td>\n",
       "      <td>45.95</td>\n",
       "      <td>64.83</td>\n",
       "      <td>70.03</td>\n",
       "      <td>77.16</td>\n",
       "      <td>74.68</td>\n",
       "      <td>71.62</td>\n",
       "      <td>54.99</td>\n",
       "      <td>42.53</td>\n",
       "      <td>26.38</td>\n",
       "    </tr>\n",
       "    <tr>\n",
       "      <th>3</th>\n",
       "      <td>1898</td>\n",
       "      <td>001</td>\n",
       "      <td>max</td>\n",
       "      <td>26.49</td>\n",
       "      <td>35.67</td>\n",
       "      <td>36.52</td>\n",
       "      <td>52.95</td>\n",
       "      <td>54.86</td>\n",
       "      <td>72.03</td>\n",
       "      <td>78.21</td>\n",
       "      <td>78.26</td>\n",
       "      <td>68.29</td>\n",
       "      <td>50.74</td>\n",
       "      <td>34.70</td>\n",
       "      <td>25.25</td>\n",
       "    </tr>\n",
       "    <tr>\n",
       "      <th>4</th>\n",
       "      <td>1899</td>\n",
       "      <td>001</td>\n",
       "      <td>max</td>\n",
       "      <td>28.17</td>\n",
       "      <td>17.65</td>\n",
       "      <td>30.76</td>\n",
       "      <td>46.94</td>\n",
       "      <td>55.04</td>\n",
       "      <td>66.40</td>\n",
       "      <td>74.77</td>\n",
       "      <td>75.02</td>\n",
       "      <td>68.43</td>\n",
       "      <td>47.23</td>\n",
       "      <td>44.31</td>\n",
       "      <td>28.60</td>\n",
       "    </tr>\n",
       "  </tbody>\n",
       "</table>\n",
       "</div>"
      ],
      "text/plain": [
       "   year fips dtype    jan    feb    mar    apr    may    jun    jul    aug  \\\n",
       "0  1895  001   max  24.53  26.04  36.77  53.08  56.35  64.69  72.09  74.28   \n",
       "1  1896  001   max  35.89  34.50  33.57  47.91  61.27  72.57  75.83  76.46   \n",
       "2  1897  001   max  28.06  29.01  33.93  45.95  64.83  70.03  77.16  74.68   \n",
       "3  1898  001   max  26.49  35.67  36.52  52.95  54.86  72.03  78.21  78.26   \n",
       "4  1899  001   max  28.17  17.65  30.76  46.94  55.04  66.40  74.77  75.02   \n",
       "\n",
       "     sep    oct    nov    dec  \n",
       "0  69.40  55.02  36.77  24.84  \n",
       "1  65.75  55.56  34.52  38.98  \n",
       "2  71.62  54.99  42.53  26.38  \n",
       "3  68.29  50.74  34.70  25.25  \n",
       "4  68.43  47.23  44.31  28.60  "
      ]
     },
     "execution_count": 23,
     "metadata": {},
     "output_type": "execute_result"
    }
   ],
   "source": [
    "all_temp.head()"
   ]
  },
  {
   "cell_type": "code",
   "execution_count": 56,
   "metadata": {},
   "outputs": [],
   "source": [
    "all_stuff = pd.merge(all_temp, fips_master, on='fips')"
   ]
  },
  {
   "cell_type": "code",
   "execution_count": 57,
   "metadata": {},
   "outputs": [],
   "source": [
    "all_stuff = all_stuff.reindex(columns=['year', 'county_name', 'dtype', 'jan', 'feb', 'mar', 'apr', 'may', 'jun', 'jul', 'aug', 'sep',\n",
    "       'oct', 'nov', 'dec'])"
   ]
  },
  {
   "cell_type": "code",
   "execution_count": 58,
   "metadata": {},
   "outputs": [],
   "source": [
    "sa_greater_counties = ['Atacosa','Bandera','Bexar','Comal','Guadalupe','Kendall','Medina','Wilson']"
   ]
  },
  {
   "cell_type": "code",
   "execution_count": 59,
   "metadata": {},
   "outputs": [],
   "source": [
    "sa_greater_area = all_stuff.loc[all_stuff['county_name'].isin(sa_greater_counties)]"
   ]
  },
  {
   "cell_type": "code",
   "execution_count": 61,
   "metadata": {},
   "outputs": [
    {
     "data": {
      "text/html": [
       "<div>\n",
       "<style scoped>\n",
       "    .dataframe tbody tr th:only-of-type {\n",
       "        vertical-align: middle;\n",
       "    }\n",
       "\n",
       "    .dataframe tbody tr th {\n",
       "        vertical-align: top;\n",
       "    }\n",
       "\n",
       "    .dataframe thead th {\n",
       "        text-align: right;\n",
       "    }\n",
       "</style>\n",
       "<table border=\"1\" class=\"dataframe\">\n",
       "  <thead>\n",
       "    <tr style=\"text-align: right;\">\n",
       "      <th></th>\n",
       "      <th>year</th>\n",
       "      <th>county_name</th>\n",
       "      <th>dtype</th>\n",
       "      <th>jan</th>\n",
       "      <th>feb</th>\n",
       "      <th>mar</th>\n",
       "      <th>apr</th>\n",
       "      <th>may</th>\n",
       "      <th>jun</th>\n",
       "      <th>jul</th>\n",
       "      <th>aug</th>\n",
       "      <th>sep</th>\n",
       "      <th>oct</th>\n",
       "      <th>nov</th>\n",
       "      <th>dec</th>\n",
       "    </tr>\n",
       "  </thead>\n",
       "  <tbody>\n",
       "    <tr>\n",
       "      <th>3375</th>\n",
       "      <td>1895</td>\n",
       "      <td>Bandera</td>\n",
       "      <td>max</td>\n",
       "      <td>26.06</td>\n",
       "      <td>25.72</td>\n",
       "      <td>37.90</td>\n",
       "      <td>57.42</td>\n",
       "      <td>59.40</td>\n",
       "      <td>66.00</td>\n",
       "      <td>77.23</td>\n",
       "      <td>78.53</td>\n",
       "      <td>69.19</td>\n",
       "      <td>56.08</td>\n",
       "      <td>39.02</td>\n",
       "      <td>29.93</td>\n",
       "    </tr>\n",
       "    <tr>\n",
       "      <th>3376</th>\n",
       "      <td>1896</td>\n",
       "      <td>Bandera</td>\n",
       "      <td>max</td>\n",
       "      <td>33.26</td>\n",
       "      <td>38.10</td>\n",
       "      <td>34.21</td>\n",
       "      <td>50.90</td>\n",
       "      <td>62.01</td>\n",
       "      <td>76.60</td>\n",
       "      <td>79.92</td>\n",
       "      <td>79.57</td>\n",
       "      <td>62.49</td>\n",
       "      <td>55.38</td>\n",
       "      <td>25.61</td>\n",
       "      <td>41.56</td>\n",
       "    </tr>\n",
       "    <tr>\n",
       "      <th>3377</th>\n",
       "      <td>1897</td>\n",
       "      <td>Bandera</td>\n",
       "      <td>max</td>\n",
       "      <td>30.4</td>\n",
       "      <td>30.69</td>\n",
       "      <td>31.89</td>\n",
       "      <td>48.94</td>\n",
       "      <td>67.17</td>\n",
       "      <td>69.51</td>\n",
       "      <td>77.04</td>\n",
       "      <td>76.21</td>\n",
       "      <td>74.01</td>\n",
       "      <td>53.94</td>\n",
       "      <td>36.09</td>\n",
       "      <td>28.76</td>\n",
       "    </tr>\n",
       "    <tr>\n",
       "      <th>3378</th>\n",
       "      <td>1898</td>\n",
       "      <td>Bandera</td>\n",
       "      <td>max</td>\n",
       "      <td>26.11</td>\n",
       "      <td>37.83</td>\n",
       "      <td>33.98</td>\n",
       "      <td>52.70</td>\n",
       "      <td>55.80</td>\n",
       "      <td>72.00</td>\n",
       "      <td>79.27</td>\n",
       "      <td>79.95</td>\n",
       "      <td>67.77</td>\n",
       "      <td>48.61</td>\n",
       "      <td>36.77</td>\n",
       "      <td>27.43</td>\n",
       "    </tr>\n",
       "    <tr>\n",
       "      <th>3379</th>\n",
       "      <td>1899</td>\n",
       "      <td>Bandera</td>\n",
       "      <td>max</td>\n",
       "      <td>31.57</td>\n",
       "      <td>14.58</td>\n",
       "      <td>27.43</td>\n",
       "      <td>51.04</td>\n",
       "      <td>60.87</td>\n",
       "      <td>71.29</td>\n",
       "      <td>80.74</td>\n",
       "      <td>79.93</td>\n",
       "      <td>73.45</td>\n",
       "      <td>50.07</td>\n",
       "      <td>50.68</td>\n",
       "      <td>31.59</td>\n",
       "    </tr>\n",
       "  </tbody>\n",
       "</table>\n",
       "</div>"
      ],
      "text/plain": [
       "      year county_name dtype    jan    feb    mar    apr    may    jun    jul  \\\n",
       "3375  1895     Bandera   max  26.06  25.72  37.90  57.42  59.40  66.00  77.23   \n",
       "3376  1896     Bandera   max  33.26  38.10  34.21  50.90  62.01  76.60  79.92   \n",
       "3377  1897     Bandera   max   30.4  30.69  31.89  48.94  67.17  69.51  77.04   \n",
       "3378  1898     Bandera   max  26.11  37.83  33.98  52.70  55.80  72.00  79.27   \n",
       "3379  1899     Bandera   max  31.57  14.58  27.43  51.04  60.87  71.29  80.74   \n",
       "\n",
       "        aug    sep    oct    nov    dec  \n",
       "3375  78.53  69.19  56.08  39.02  29.93  \n",
       "3376  79.57  62.49  55.38  25.61  41.56  \n",
       "3377  76.21  74.01  53.94  36.09  28.76  \n",
       "3378  79.95  67.77  48.61  36.77  27.43  \n",
       "3379  79.93  73.45  50.07  50.68  31.59  "
      ]
     },
     "execution_count": 61,
     "metadata": {},
     "output_type": "execute_result"
    }
   ],
   "source": [
    "sa_greater_area.head()"
   ]
  },
  {
   "cell_type": "code",
   "execution_count": 46,
   "metadata": {},
   "outputs": [],
   "source": [
    "bexar = all_stuff.loc[all_stuff['county_name'] == 'Bexar']"
   ]
  },
  {
   "cell_type": "code",
   "execution_count": 51,
   "metadata": {},
   "outputs": [
    {
     "data": {
      "text/html": [
       "<div>\n",
       "<style scoped>\n",
       "    .dataframe tbody tr th:only-of-type {\n",
       "        vertical-align: middle;\n",
       "    }\n",
       "\n",
       "    .dataframe tbody tr th {\n",
       "        vertical-align: top;\n",
       "    }\n",
       "\n",
       "    .dataframe thead th {\n",
       "        text-align: right;\n",
       "    }\n",
       "</style>\n",
       "<table border=\"1\" class=\"dataframe\">\n",
       "  <thead>\n",
       "    <tr style=\"text-align: right;\">\n",
       "      <th></th>\n",
       "      <th>year</th>\n",
       "      <th>county_name</th>\n",
       "      <th>dtype</th>\n",
       "      <th>jan</th>\n",
       "      <th>feb</th>\n",
       "      <th>mar</th>\n",
       "      <th>apr</th>\n",
       "      <th>may</th>\n",
       "      <th>jun</th>\n",
       "      <th>jul</th>\n",
       "      <th>aug</th>\n",
       "      <th>sep</th>\n",
       "      <th>oct</th>\n",
       "      <th>nov</th>\n",
       "      <th>dec</th>\n",
       "    </tr>\n",
       "  </thead>\n",
       "  <tbody>\n",
       "    <tr>\n",
       "      <th>5374</th>\n",
       "      <td>2019</td>\n",
       "      <td>Bexar</td>\n",
       "      <td>max</td>\n",
       "      <td>33.33</td>\n",
       "      <td>25.39</td>\n",
       "      <td>39.79</td>\n",
       "      <td>48.74</td>\n",
       "      <td>NaN</td>\n",
       "      <td>NaN</td>\n",
       "      <td>NaN</td>\n",
       "      <td>NaN</td>\n",
       "      <td>NaN</td>\n",
       "      <td>NaN</td>\n",
       "      <td>NaN</td>\n",
       "      <td>NaN</td>\n",
       "    </tr>\n",
       "    <tr>\n",
       "      <th>5499</th>\n",
       "      <td>2019</td>\n",
       "      <td>Bexar</td>\n",
       "      <td>avg</td>\n",
       "      <td>23.14</td>\n",
       "      <td>15.33</td>\n",
       "      <td>26.17</td>\n",
       "      <td>38.17</td>\n",
       "      <td>NaN</td>\n",
       "      <td>NaN</td>\n",
       "      <td>NaN</td>\n",
       "      <td>NaN</td>\n",
       "      <td>NaN</td>\n",
       "      <td>NaN</td>\n",
       "      <td>NaN</td>\n",
       "      <td>NaN</td>\n",
       "    </tr>\n",
       "    <tr>\n",
       "      <th>5624</th>\n",
       "      <td>2019</td>\n",
       "      <td>Bexar</td>\n",
       "      <td>min</td>\n",
       "      <td>12.94</td>\n",
       "      <td>5.27</td>\n",
       "      <td>12.54</td>\n",
       "      <td>27.63</td>\n",
       "      <td>NaN</td>\n",
       "      <td>NaN</td>\n",
       "      <td>NaN</td>\n",
       "      <td>NaN</td>\n",
       "      <td>NaN</td>\n",
       "      <td>NaN</td>\n",
       "      <td>NaN</td>\n",
       "      <td>NaN</td>\n",
       "    </tr>\n",
       "  </tbody>\n",
       "</table>\n",
       "</div>"
      ],
      "text/plain": [
       "      year county_name dtype    jan    feb    mar    apr  may  jun  jul  aug  \\\n",
       "5374  2019       Bexar   max  33.33  25.39  39.79  48.74  NaN  NaN  NaN  NaN   \n",
       "5499  2019       Bexar   avg  23.14  15.33  26.17  38.17  NaN  NaN  NaN  NaN   \n",
       "5624  2019       Bexar   min  12.94   5.27  12.54  27.63  NaN  NaN  NaN  NaN   \n",
       "\n",
       "      sep  oct  nov  dec  \n",
       "5374  NaN  NaN  NaN  NaN  \n",
       "5499  NaN  NaN  NaN  NaN  \n",
       "5624  NaN  NaN  NaN  NaN  "
      ]
     },
     "execution_count": 51,
     "metadata": {},
     "output_type": "execute_result"
    }
   ],
   "source": [
    "bexar.loc[all_stuff['year'] == '2019']"
   ]
  },
  {
   "cell_type": "code",
   "execution_count": 49,
   "metadata": {},
   "outputs": [],
   "source": [
    "# bexar.to_csv(r'/Users/codywatson/desktop/water_conservation_proposal/bexar_county_temp_data.csv')"
   ]
  }
 ],
 "metadata": {
  "kernelspec": {
   "display_name": "Python 3",
   "language": "python",
   "name": "python3"
  },
  "language_info": {
   "codemirror_mode": {
    "name": "ipython",
    "version": 3
   },
   "file_extension": ".py",
   "mimetype": "text/x-python",
   "name": "python",
   "nbconvert_exporter": "python",
   "pygments_lexer": "ipython3",
   "version": "3.7.1"
  }
 },
 "nbformat": 4,
 "nbformat_minor": 2
}
