{
 "cells": [
  {
   "cell_type": "markdown",
   "metadata": {},
   "source": [
    "# Prepare Environment"
   ]
  },
  {
   "cell_type": "code",
   "execution_count": 1,
   "metadata": {},
   "outputs": [],
   "source": [
    "import os\n",
    "from pprint import pprint\n",
    "import io\n",
    "from datetime import timedelta\n",
    "from importlib import reload\n",
    "\n",
    "import adalib\n",
    "\n",
    "from pylab import rcParams\n",
    "import matplotlib.pyplot as plt\n",
    "\n",
    "%matplotlib inline\n",
    "import numpy as np\n",
    "import seaborn as sns\n",
    "import statsmodels.api as sm\n",
    "from statsmodels.tsa.api import ExponentialSmoothing, SimpleExpSmoothing, Holt\n",
    "import statsmodels.api as sm\n",
    "from statsmodels.tsa.ar_model import AR\n",
    "from sklearn.model_selection import TimeSeriesSplit\n",
    "from sklearn import metrics\n",
    "import pandas as pd\n",
    "import math\n",
    "from statsmodels.tsa.api import Holt\n",
    "from fbprophet import Prophet\n",
    "from fbprophet.diagnostics import cross_validation, performance_metrics\n",
    "from fbprophet.plot import (\n",
    "    plot_cross_validation_metric,\n",
    "    plot_forecast_component,\n",
    ")"
   ]
  },
  {
   "cell_type": "markdown",
   "metadata": {},
   "source": [
    "# Acquire"
   ]
  },
  {
   "cell_type": "code",
   "execution_count": 2,
   "metadata": {},
   "outputs": [],
   "source": [
    "df = pd.read_csv('precipitation.csv')"
   ]
  },
  {
   "cell_type": "markdown",
   "metadata": {},
   "source": [
    "# Summarize Data"
   ]
  },
  {
   "cell_type": "code",
   "execution_count": 3,
   "metadata": {},
   "outputs": [
    {
     "name": "stdout",
     "output_type": "stream",
     "text": [
      "RANDOM SAMPLE OF 10\n",
      "        Unnamed: 0      STATION        DATE  PRCP\n",
      "1018          1018  US1TXCML008  2018-03-29  1.01\n",
      "130012      130012  USC00410902  1977-10-09  0.03\n",
      "107016      107016  USC00417628  2004-12-31  0.00\n",
      "162841      162841  USC00416276  1957-07-10  0.00\n",
      "15920        15920  US1TXAT0026  2018-04-21  0.03\n",
      "217413      217413  USC00416276  1910-12-17  0.05\n",
      "142555      142555  USC00410902  1968-06-15  0.00\n",
      "147405      147405  USC00410902  1964-03-23  0.00\n",
      "163070      163070  USC00416276  1958-02-24  0.00\n",
      "18678        18678  US1TXCML141  2018-10-21  0.01\n",
      "\n",
      "SHAPE: (232574, 4)\n",
      "\n",
      "DESCRIPTION\n",
      "          Unnamed: 0           PRCP\n",
      "count  232574.000000  229661.000000\n",
      "mean   116286.500000       0.099676\n",
      "std     67138.475091       0.393292\n",
      "min         0.000000       0.000000\n",
      "25%     58143.250000       0.000000\n",
      "50%    116286.500000       0.000000\n",
      "75%    174429.750000       0.000000\n",
      "max    232573.000000      11.500000\n",
      "\n",
      "INFORMATION\n",
      "<class 'pandas.core.frame.DataFrame'>\n",
      "RangeIndex: 232574 entries, 0 to 232573\n",
      "Data columns (total 4 columns):\n",
      "Unnamed: 0    232574 non-null int64\n",
      "STATION       232574 non-null object\n",
      "DATE          232574 non-null object\n",
      "PRCP          229661 non-null float64\n",
      "dtypes: float64(1), int64(1), object(2)\n",
      "memory usage: 7.1+ MB\n",
      "\n",
      "Unnamed: 0:\n",
      "(-232.574, 23257.3]     23258\n",
      "(23257.3, 46514.6]      23257\n",
      "(46514.6, 69771.9]      23257\n",
      "(69771.9, 93029.2]      23258\n",
      "(93029.2, 116286.5]     23257\n",
      "(116286.5, 139543.8]    23257\n",
      "(139543.8, 162801.1]    23258\n",
      "(162801.1, 186058.4]    23257\n",
      "(186058.4, 209315.7]    23257\n",
      "(209315.7, 232573.0]    23258\n",
      "Name: Unnamed: 0, dtype: int64\n",
      "\n",
      "\n",
      "STATION:\n",
      "USC00410902    44512\n",
      "USC00417628    33026\n",
      "USC00416276    29087\n",
      "USC00415454    10562\n",
      "USC00411777     8962\n",
      "USW00012909     8346\n",
      "US1TXCML008     4600\n",
      "US1TXAT0001     4487\n",
      "US1TXBXR015     4407\n",
      "US1TXBXR027     4402\n",
      "US1TXKN0007     4355\n",
      "USW00012931     4191\n",
      "US1TXCML006     4086\n",
      "US1TXBXR133     3757\n",
      "US1TXWO0014     3752\n",
      "US1TXMDN003     3525\n",
      "US1TXMDN023     3400\n",
      "US1TXCML061     3361\n",
      "US1TXKN0054     3221\n",
      "US1TXAT0026     2646\n",
      "US1TXKN0065     2446\n",
      "US1TXBXR215     2440\n",
      "US1TXBXR253     2378\n",
      "US1TXBXR031     2172\n",
      "US1TXWO0029     1923\n",
      "US1TXMDN045     1894\n",
      "US1TXCML007     1874\n",
      "US1TXBXR269     1748\n",
      "US1TXKN0073     1629\n",
      "US1TXGP0001     1591\n",
      "               ...  \n",
      "US1TXBXR143      610\n",
      "US1TXBND018      565\n",
      "US1TXWO0043      558\n",
      "US1TXWO0023      516\n",
      "US1TXBXR345      497\n",
      "US1TXWO0019      491\n",
      "US1TXMDN052      463\n",
      "US1TXGP0005      451\n",
      "US1TXAT0045      432\n",
      "US1TXBXR030      426\n",
      "US1TXBXR060      425\n",
      "US1TXGP0071      330\n",
      "US1TXBXR099      289\n",
      "US1TXBXR297      264\n",
      "US1TXBXR154      262\n",
      "US1TXCML198      226\n",
      "US1TXKN0049      225\n",
      "US1TXBXR077      203\n",
      "US1TXBXR159      201\n",
      "US1TXBXR371      185\n",
      "US1TXBXR088      164\n",
      "US1TXCML020      152\n",
      "US1TXBXR367      150\n",
      "US1TXBXR220      150\n",
      "US1TXKN0057      132\n",
      "US1TXCML038      127\n",
      "US1TXBXR073      108\n",
      "US1TXGP0103      107\n",
      "US1TXGP0126      106\n",
      "US1TXBXR362      101\n",
      "Name: STATION, Length: 77, dtype: int64\n",
      "\n",
      "\n",
      "DATE:\n",
      "2014-05-13    60\n",
      "2014-05-27    60\n",
      "2014-05-26    58\n",
      "2013-11-05    56\n",
      "2014-04-15    56\n",
      "2013-12-21    56\n",
      "2013-11-25    54\n",
      "2014-01-10    54\n",
      "2014-05-10    54\n",
      "2013-11-10    54\n",
      "2014-04-08    54\n",
      "2013-12-22    54\n",
      "2013-11-04    54\n",
      "2014-05-28    54\n",
      "2013-11-22    54\n",
      "2014-05-14    54\n",
      "2014-02-03    54\n",
      "2014-04-07    54\n",
      "2014-05-25    54\n",
      "2013-11-26    54\n",
      "2013-12-27    54\n",
      "2014-02-04    54\n",
      "2014-04-09    52\n",
      "2014-04-18    52\n",
      "2014-01-09    52\n",
      "2014-01-08    52\n",
      "2014-03-27    52\n",
      "2013-11-07    52\n",
      "2013-12-14    50\n",
      "2013-11-06    50\n",
      "              ..\n",
      "1910-08-13     1\n",
      "1896-11-22     1\n",
      "1910-07-08     1\n",
      "1910-07-18     1\n",
      "1894-09-21     1\n",
      "1893-11-30     1\n",
      "1907-05-19     1\n",
      "1907-12-09     1\n",
      "1907-12-26     1\n",
      "1904-06-23     1\n",
      "1907-07-24     1\n",
      "1900-11-19     1\n",
      "1895-09-20     1\n",
      "1895-04-07     1\n",
      "1896-11-13     1\n",
      "1903-08-10     1\n",
      "1896-06-24     1\n",
      "1910-07-25     1\n",
      "1895-03-22     1\n",
      "1907-07-25     1\n",
      "1896-04-23     1\n",
      "1895-06-16     1\n",
      "1894-01-30     1\n",
      "1896-06-06     1\n",
      "1894-02-23     1\n",
      "1896-04-16     1\n",
      "1907-06-17     1\n",
      "1895-12-11     1\n",
      "1894-01-21     1\n",
      "1896-08-02     1\n",
      "Name: DATE, Length: 45304, dtype: int64\n",
      "\n",
      "\n",
      "PRCP:\n",
      "(-0.0125, 1.15]    224107\n",
      "(1.15, 2.3]          4047\n",
      "(2.3, 3.45]           976\n",
      "(3.45, 4.6]           320\n",
      "(4.6, 5.75]           113\n",
      "(5.75, 6.9]            56\n",
      "(6.9, 8.05]            19\n",
      "(8.05, 9.2]            12\n",
      "(9.2, 10.35]            6\n",
      "(10.35, 11.5]           5\n",
      "Name: PRCP, dtype: int64\n",
      "\n",
      "\n"
     ]
    }
   ],
   "source": [
    "adalib.summarize(df)"
   ]
  },
  {
   "cell_type": "code",
   "execution_count": 4,
   "metadata": {},
   "outputs": [
    {
     "data": {
      "text/html": [
       "<div>\n",
       "<style scoped>\n",
       "    .dataframe tbody tr th:only-of-type {\n",
       "        vertical-align: middle;\n",
       "    }\n",
       "\n",
       "    .dataframe tbody tr th {\n",
       "        vertical-align: top;\n",
       "    }\n",
       "\n",
       "    .dataframe thead th {\n",
       "        text-align: right;\n",
       "    }\n",
       "</style>\n",
       "<table border=\"1\" class=\"dataframe\">\n",
       "  <thead>\n",
       "    <tr style=\"text-align: right;\">\n",
       "      <th></th>\n",
       "      <th>nmissing</th>\n",
       "      <th>percentage</th>\n",
       "      <th>nempty</th>\n",
       "    </tr>\n",
       "  </thead>\n",
       "  <tbody>\n",
       "    <tr>\n",
       "      <th>Unnamed: 0</th>\n",
       "      <td>0</td>\n",
       "      <td>0.000000</td>\n",
       "      <td>0</td>\n",
       "    </tr>\n",
       "    <tr>\n",
       "      <th>STATION</th>\n",
       "      <td>0</td>\n",
       "      <td>0.000000</td>\n",
       "      <td>0</td>\n",
       "    </tr>\n",
       "    <tr>\n",
       "      <th>DATE</th>\n",
       "      <td>0</td>\n",
       "      <td>0.000000</td>\n",
       "      <td>0</td>\n",
       "    </tr>\n",
       "    <tr>\n",
       "      <th>PRCP</th>\n",
       "      <td>2913</td>\n",
       "      <td>1.252505</td>\n",
       "      <td>0</td>\n",
       "    </tr>\n",
       "  </tbody>\n",
       "</table>\n",
       "</div>"
      ],
      "text/plain": [
       "            nmissing  percentage  nempty\n",
       "Unnamed: 0         0    0.000000       0\n",
       "STATION            0    0.000000       0\n",
       "DATE               0    0.000000       0\n",
       "PRCP            2913    1.252505       0"
      ]
     },
     "execution_count": 4,
     "metadata": {},
     "output_type": "execute_result"
    }
   ],
   "source": [
    "adalib.df_missing_vals_by_col(df)"
   ]
  },
  {
   "cell_type": "code",
   "execution_count": 35,
   "metadata": {},
   "outputs": [
    {
     "name": "stdout",
     "output_type": "stream",
     "text": [
      "             Unnamed: 0  DATE  PRCP\n",
      "STATION                            \n",
      "US1TXBXR362         101   101   101\n",
      "US1TXGP0126         106   106   106\n",
      "US1TXGP0103         107   107   107\n",
      "US1TXBXR073         108   108   108\n",
      "US1TXCML038         127   127   127\n",
      "             Unnamed: 0   DATE   PRCP\n",
      "STATION                              \n",
      "US1TXBXR027        4402   4402   4394\n",
      "US1TXBXR015        4407   4407   4407\n",
      "US1TXAT0001        4487   4487   4487\n",
      "US1TXCML008        4600   4600   4576\n",
      "USW00012909        8346   8346   8337\n",
      "USC00411777        8962   8962   8949\n",
      "USC00415454       10562  10562  10551\n",
      "USC00416276       29087  29087  28003\n",
      "USC00417628       33026  33026  32855\n",
      "USC00410902       44512  44512  44475\n"
     ]
    }
   ],
   "source": [
    "df.set_index('DATE')\n",
    "\n",
    "station_counts = df.groupby('STATION').count()\n",
    "station_counts = station_counts.sort_values(by=['PRCP'], ascending=True)\n",
    "print(station_counts.head())\n",
    "print(station_counts.tail(10))"
   ]
  },
  {
   "cell_type": "markdown",
   "metadata": {},
   "source": [
    "USW00012909 is the longest running station for collecting precipitation data in San Antonio. I will use this station alone for my initial model."
   ]
  },
  {
   "cell_type": "code",
   "execution_count": 38,
   "metadata": {},
   "outputs": [],
   "source": [
    "df_initial = df[(df['STATION'] == 'USW00012909')]"
   ]
  },
  {
   "cell_type": "code",
   "execution_count": 40,
   "metadata": {},
   "outputs": [
    {
     "name": "stdout",
     "output_type": "stream",
     "text": [
      "2019-05-15\n",
      "1949-01-01\n"
     ]
    }
   ],
   "source": [
    "print(df_initial.DATE.max())\n",
    "print(df_initial.DATE.min())"
   ]
  },
  {
   "cell_type": "code",
   "execution_count": 45,
   "metadata": {},
   "outputs": [
    {
     "data": {
      "text/plain": [
       "Unnamed: 0      int64\n",
       "STATION        object\n",
       "DATE           object\n",
       "PRCP          float64\n",
       "dtype: object"
      ]
     },
     "execution_count": 45,
     "metadata": {},
     "output_type": "execute_result"
    }
   ],
   "source": [
    "df_initial.dtypes"
   ]
  },
  {
   "cell_type": "code",
   "execution_count": 48,
   "metadata": {},
   "outputs": [
    {
     "name": "stderr",
     "output_type": "stream",
     "text": [
      "/usr/local/anaconda3/lib/python3.7/site-packages/ipykernel_launcher.py:1: SettingWithCopyWarning: \n",
      "A value is trying to be set on a copy of a slice from a DataFrame.\n",
      "Try using .loc[row_indexer,col_indexer] = value instead\n",
      "\n",
      "See the caveats in the documentation: http://pandas.pydata.org/pandas-docs/stable/indexing.html#indexing-view-versus-copy\n",
      "  \"\"\"Entry point for launching an IPython kernel.\n"
     ]
    }
   ],
   "source": [
    "df_initial['DATE'] = pd.to_datetime(df_initial['DATE'])"
   ]
  },
  {
   "cell_type": "code",
   "execution_count": 49,
   "metadata": {},
   "outputs": [
    {
     "data": {
      "text/plain": [
       "Unnamed: 0             int64\n",
       "STATION               object\n",
       "DATE          datetime64[ns]\n",
       "PRCP                 float64\n",
       "dtype: object"
      ]
     },
     "execution_count": 49,
     "metadata": {},
     "output_type": "execute_result"
    }
   ],
   "source": [
    "df_initial.dtypes"
   ]
  },
  {
   "cell_type": "markdown",
   "metadata": {},
   "source": [
    "Dropping Nans from the dataframe to feed into initial model. "
   ]
  },
  {
   "cell_type": "code",
   "execution_count": 55,
   "metadata": {},
   "outputs": [
    {
     "name": "stdout",
     "output_type": "stream",
     "text": [
      "<class 'pandas.core.frame.DataFrame'>\n",
      "Int64Index: 8337 entries, 5370 to 178607\n",
      "Data columns (total 4 columns):\n",
      "Unnamed: 0    8337 non-null int64\n",
      "STATION       8337 non-null object\n",
      "DATE          8337 non-null datetime64[ns]\n",
      "PRCP          8337 non-null float64\n",
      "dtypes: datetime64[ns](1), float64(1), int64(1), object(1)\n",
      "memory usage: 325.7+ KB\n"
     ]
    },
    {
     "name": "stderr",
     "output_type": "stream",
     "text": [
      "/usr/local/anaconda3/lib/python3.7/site-packages/ipykernel_launcher.py:1: SettingWithCopyWarning: \n",
      "A value is trying to be set on a copy of a slice from a DataFrame\n",
      "\n",
      "See the caveats in the documentation: http://pandas.pydata.org/pandas-docs/stable/indexing.html#indexing-view-versus-copy\n",
      "  \"\"\"Entry point for launching an IPython kernel.\n"
     ]
    }
   ],
   "source": [
    "df_initial.dropna(inplace=True)\n",
    "df_initial.info()"
   ]
  },
  {
   "cell_type": "markdown",
   "metadata": {},
   "source": [
    "## Train/Test Split"
   ]
  },
  {
   "cell_type": "code",
   "execution_count": 51,
   "metadata": {},
   "outputs": [
    {
     "ename": "TypeError",
     "evalue": "cannot do slice indexing on <class 'pandas.core.indexes.numeric.Int64Index'> with these indexers [2005-01] of <class 'str'>",
     "output_type": "error",
     "traceback": [
      "\u001b[0;31m---------------------------------------------------------------------------\u001b[0m",
      "\u001b[0;31mTypeError\u001b[0m                                 Traceback (most recent call last)",
      "\u001b[0;32m<ipython-input-51-22f36bd0dd60>\u001b[0m in \u001b[0;36m<module>\u001b[0;34m\u001b[0m\n\u001b[1;32m      1\u001b[0m \u001b[0maggregation\u001b[0m \u001b[0;34m=\u001b[0m \u001b[0;34m\"sum\"\u001b[0m\u001b[0;34m\u001b[0m\u001b[0;34m\u001b[0m\u001b[0m\n\u001b[1;32m      2\u001b[0m \u001b[0;34m\u001b[0m\u001b[0m\n\u001b[0;32m----> 3\u001b[0;31m \u001b[0mtrain\u001b[0m \u001b[0;34m=\u001b[0m \u001b[0mdf_initial\u001b[0m\u001b[0;34m[\u001b[0m\u001b[0;34m:\u001b[0m\u001b[0;34m\"2005-01\"\u001b[0m\u001b[0;34m]\u001b[0m\u001b[0;34m.\u001b[0m\u001b[0mresample\u001b[0m\u001b[0;34m(\u001b[0m\u001b[0;34m\"M\"\u001b[0m\u001b[0;34m)\u001b[0m\u001b[0;34m.\u001b[0m\u001b[0magg\u001b[0m\u001b[0;34m(\u001b[0m\u001b[0maggregation\u001b[0m\u001b[0;34m)\u001b[0m\u001b[0;34m\u001b[0m\u001b[0;34m\u001b[0m\u001b[0m\n\u001b[0m\u001b[1;32m      4\u001b[0m \u001b[0mtest\u001b[0m \u001b[0;34m=\u001b[0m \u001b[0mdf_initial\u001b[0m\u001b[0;34m[\u001b[0m\u001b[0;34m\"2005-02\"\u001b[0m\u001b[0;34m:\u001b[0m\u001b[0;34m]\u001b[0m\u001b[0;34m.\u001b[0m\u001b[0mresample\u001b[0m\u001b[0;34m(\u001b[0m\u001b[0;34m\"M\"\u001b[0m\u001b[0;34m)\u001b[0m\u001b[0;34m.\u001b[0m\u001b[0magg\u001b[0m\u001b[0;34m(\u001b[0m\u001b[0maggregation\u001b[0m\u001b[0;34m)\u001b[0m\u001b[0;34m\u001b[0m\u001b[0;34m\u001b[0m\u001b[0m\n",
      "\u001b[0;32m/usr/local/anaconda3/lib/python3.7/site-packages/pandas/core/frame.py\u001b[0m in \u001b[0;36m__getitem__\u001b[0;34m(self, key)\u001b[0m\n\u001b[1;32m   2674\u001b[0m \u001b[0;34m\u001b[0m\u001b[0m\n\u001b[1;32m   2675\u001b[0m         \u001b[0;31m# see if we can slice the rows\u001b[0m\u001b[0;34m\u001b[0m\u001b[0;34m\u001b[0m\u001b[0;34m\u001b[0m\u001b[0m\n\u001b[0;32m-> 2676\u001b[0;31m         \u001b[0mindexer\u001b[0m \u001b[0;34m=\u001b[0m \u001b[0mconvert_to_index_sliceable\u001b[0m\u001b[0;34m(\u001b[0m\u001b[0mself\u001b[0m\u001b[0;34m,\u001b[0m \u001b[0mkey\u001b[0m\u001b[0;34m)\u001b[0m\u001b[0;34m\u001b[0m\u001b[0;34m\u001b[0m\u001b[0m\n\u001b[0m\u001b[1;32m   2677\u001b[0m         \u001b[0;32mif\u001b[0m \u001b[0mindexer\u001b[0m \u001b[0;32mis\u001b[0m \u001b[0;32mnot\u001b[0m \u001b[0;32mNone\u001b[0m\u001b[0;34m:\u001b[0m\u001b[0;34m\u001b[0m\u001b[0;34m\u001b[0m\u001b[0m\n\u001b[1;32m   2678\u001b[0m             \u001b[0;32mreturn\u001b[0m \u001b[0mself\u001b[0m\u001b[0;34m.\u001b[0m\u001b[0m_getitem_slice\u001b[0m\u001b[0;34m(\u001b[0m\u001b[0mindexer\u001b[0m\u001b[0;34m)\u001b[0m\u001b[0;34m\u001b[0m\u001b[0;34m\u001b[0m\u001b[0m\n",
      "\u001b[0;32m/usr/local/anaconda3/lib/python3.7/site-packages/pandas/core/indexing.py\u001b[0m in \u001b[0;36mconvert_to_index_sliceable\u001b[0;34m(obj, key)\u001b[0m\n\u001b[1;32m   2324\u001b[0m     \u001b[0midx\u001b[0m \u001b[0;34m=\u001b[0m \u001b[0mobj\u001b[0m\u001b[0;34m.\u001b[0m\u001b[0mindex\u001b[0m\u001b[0;34m\u001b[0m\u001b[0;34m\u001b[0m\u001b[0m\n\u001b[1;32m   2325\u001b[0m     \u001b[0;32mif\u001b[0m \u001b[0misinstance\u001b[0m\u001b[0;34m(\u001b[0m\u001b[0mkey\u001b[0m\u001b[0;34m,\u001b[0m \u001b[0mslice\u001b[0m\u001b[0;34m)\u001b[0m\u001b[0;34m:\u001b[0m\u001b[0;34m\u001b[0m\u001b[0;34m\u001b[0m\u001b[0m\n\u001b[0;32m-> 2326\u001b[0;31m         \u001b[0;32mreturn\u001b[0m \u001b[0midx\u001b[0m\u001b[0;34m.\u001b[0m\u001b[0m_convert_slice_indexer\u001b[0m\u001b[0;34m(\u001b[0m\u001b[0mkey\u001b[0m\u001b[0;34m,\u001b[0m \u001b[0mkind\u001b[0m\u001b[0;34m=\u001b[0m\u001b[0;34m'getitem'\u001b[0m\u001b[0;34m)\u001b[0m\u001b[0;34m\u001b[0m\u001b[0;34m\u001b[0m\u001b[0m\n\u001b[0m\u001b[1;32m   2327\u001b[0m \u001b[0;34m\u001b[0m\u001b[0m\n\u001b[1;32m   2328\u001b[0m     \u001b[0;32melif\u001b[0m \u001b[0misinstance\u001b[0m\u001b[0;34m(\u001b[0m\u001b[0mkey\u001b[0m\u001b[0;34m,\u001b[0m \u001b[0mcompat\u001b[0m\u001b[0;34m.\u001b[0m\u001b[0mstring_types\u001b[0m\u001b[0;34m)\u001b[0m\u001b[0;34m:\u001b[0m\u001b[0;34m\u001b[0m\u001b[0;34m\u001b[0m\u001b[0m\n",
      "\u001b[0;32m/usr/local/anaconda3/lib/python3.7/site-packages/pandas/core/indexes/base.py\u001b[0m in \u001b[0;36m_convert_slice_indexer\u001b[0;34m(self, key, kind)\u001b[0m\n\u001b[1;32m   1725\u001b[0m             \u001b[0;32mif\u001b[0m \u001b[0mself\u001b[0m\u001b[0;34m.\u001b[0m\u001b[0mis_integer\u001b[0m\u001b[0;34m(\u001b[0m\u001b[0;34m)\u001b[0m \u001b[0;32mor\u001b[0m \u001b[0mis_index_slice\u001b[0m\u001b[0;34m:\u001b[0m\u001b[0;34m\u001b[0m\u001b[0;34m\u001b[0m\u001b[0m\n\u001b[1;32m   1726\u001b[0m                 return slice(self._validate_indexer('slice', key.start, kind),\n\u001b[0;32m-> 1727\u001b[0;31m                              \u001b[0mself\u001b[0m\u001b[0;34m.\u001b[0m\u001b[0m_validate_indexer\u001b[0m\u001b[0;34m(\u001b[0m\u001b[0;34m'slice'\u001b[0m\u001b[0;34m,\u001b[0m \u001b[0mkey\u001b[0m\u001b[0;34m.\u001b[0m\u001b[0mstop\u001b[0m\u001b[0;34m,\u001b[0m \u001b[0mkind\u001b[0m\u001b[0;34m)\u001b[0m\u001b[0;34m,\u001b[0m\u001b[0;34m\u001b[0m\u001b[0;34m\u001b[0m\u001b[0m\n\u001b[0m\u001b[1;32m   1728\u001b[0m                              self._validate_indexer('slice', key.step, kind))\n\u001b[1;32m   1729\u001b[0m \u001b[0;34m\u001b[0m\u001b[0m\n",
      "\u001b[0;32m/usr/local/anaconda3/lib/python3.7/site-packages/pandas/core/indexes/base.py\u001b[0m in \u001b[0;36m_validate_indexer\u001b[0;34m(self, form, key, kind)\u001b[0m\n\u001b[1;32m   4143\u001b[0m             \u001b[0;32mpass\u001b[0m\u001b[0;34m\u001b[0m\u001b[0;34m\u001b[0m\u001b[0m\n\u001b[1;32m   4144\u001b[0m         \u001b[0;32melif\u001b[0m \u001b[0mkind\u001b[0m \u001b[0;32min\u001b[0m \u001b[0;34m[\u001b[0m\u001b[0;34m'iloc'\u001b[0m\u001b[0;34m,\u001b[0m \u001b[0;34m'getitem'\u001b[0m\u001b[0;34m]\u001b[0m\u001b[0;34m:\u001b[0m\u001b[0;34m\u001b[0m\u001b[0;34m\u001b[0m\u001b[0m\n\u001b[0;32m-> 4145\u001b[0;31m             \u001b[0mself\u001b[0m\u001b[0;34m.\u001b[0m\u001b[0m_invalid_indexer\u001b[0m\u001b[0;34m(\u001b[0m\u001b[0mform\u001b[0m\u001b[0;34m,\u001b[0m \u001b[0mkey\u001b[0m\u001b[0;34m)\u001b[0m\u001b[0;34m\u001b[0m\u001b[0;34m\u001b[0m\u001b[0m\n\u001b[0m\u001b[1;32m   4146\u001b[0m         \u001b[0;32mreturn\u001b[0m \u001b[0mkey\u001b[0m\u001b[0;34m\u001b[0m\u001b[0;34m\u001b[0m\u001b[0m\n\u001b[1;32m   4147\u001b[0m \u001b[0;34m\u001b[0m\u001b[0m\n",
      "\u001b[0;32m/usr/local/anaconda3/lib/python3.7/site-packages/pandas/core/indexes/base.py\u001b[0m in \u001b[0;36m_invalid_indexer\u001b[0;34m(self, form, key)\u001b[0m\n\u001b[1;32m   1861\u001b[0m                         \"indexers [{key}] of {kind}\".format(\n\u001b[1;32m   1862\u001b[0m                             \u001b[0mform\u001b[0m\u001b[0;34m=\u001b[0m\u001b[0mform\u001b[0m\u001b[0;34m,\u001b[0m \u001b[0mklass\u001b[0m\u001b[0;34m=\u001b[0m\u001b[0mtype\u001b[0m\u001b[0;34m(\u001b[0m\u001b[0mself\u001b[0m\u001b[0;34m)\u001b[0m\u001b[0;34m,\u001b[0m \u001b[0mkey\u001b[0m\u001b[0;34m=\u001b[0m\u001b[0mkey\u001b[0m\u001b[0;34m,\u001b[0m\u001b[0;34m\u001b[0m\u001b[0;34m\u001b[0m\u001b[0m\n\u001b[0;32m-> 1863\u001b[0;31m                             kind=type(key)))\n\u001b[0m\u001b[1;32m   1864\u001b[0m \u001b[0;34m\u001b[0m\u001b[0m\n\u001b[1;32m   1865\u001b[0m     \u001b[0;32mdef\u001b[0m \u001b[0mget_duplicates\u001b[0m\u001b[0;34m(\u001b[0m\u001b[0mself\u001b[0m\u001b[0;34m)\u001b[0m\u001b[0;34m:\u001b[0m\u001b[0;34m\u001b[0m\u001b[0;34m\u001b[0m\u001b[0m\n",
      "\u001b[0;31mTypeError\u001b[0m: cannot do slice indexing on <class 'pandas.core.indexes.numeric.Int64Index'> with these indexers [2005-01] of <class 'str'>"
     ]
    }
   ],
   "source": [
    "aggregation = \"sum\"\n",
    "\n",
    "train = df_initial[:\"2005-01\"].resample(\"M\").agg(aggregation)\n",
    "test = df_initial[\"2005-02\":].resample(\"M\").agg(aggregation)"
   ]
  },
  {
   "cell_type": "code",
   "execution_count": null,
   "metadata": {},
   "outputs": [],
   "source": [
    "print(\"Observations: %d\" % (len(train.values) + len(test.values)))\n",
    "print(\"Training Observations: %d\" % (len(train)))\n",
    "print(\"Testing Observations: %d\" % (len(test)))"
   ]
  },
  {
   "cell_type": "markdown",
   "metadata": {},
   "source": [
    "## Modeling"
   ]
  },
  {
   "cell_type": "code",
   "execution_count": 36,
   "metadata": {},
   "outputs": [],
   "source": [
    "def plot_data_and_predictions(train, test, predictions, label):\n",
    "    plt.figure(figsize=(10, 8))\n",
    "\n",
    "    plt.plot(train,label='Train')\n",
    "    plt.plot(test, label='Test')\n",
    "    plt.plot(predictions, label=label, linewidth=5)\n",
    "\n",
    "    plt.legend(loc='best')\n",
    "    plt.show()\n",
    "\n",
    "\n",
    "def evaluate(actual, predictions, output=True):\n",
    "    mse = metrics.mean_squared_error(actual, predictions)\n",
    "    rmse = math.sqrt(mse)\n",
    "\n",
    "    if output:\n",
    "        print('MSE:  {}'.format(mse))\n",
    "        print('RMSE: {}'.format(rmse))\n",
    "    else:\n",
    "        return mse, rmse    \n",
    "\n",
    "def plot_and_eval(train, test, predictions, actual, metric_fmt='{:.2f}', linewidth=4):\n",
    "    if type(predictions) is not list:\n",
    "        predictions = [predictions]\n",
    "\n",
    "    plt.figure(figsize=(16, 8))\n",
    "    plt.plot(train, label='Train')\n",
    "    plt.plot(test, label='Test')\n",
    "\n",
    "    for yhat in predictions:\n",
    "        mse, rmse = evaluate(actual, yhat, output=False)        \n",
    "        label = f'{yhat.name}'\n",
    "        if len(predictions) > 1:\n",
    "            label = f'{label} -- MSE: {metric_fmt} RMSE: {metric_fmt}'.format(mse, rmse)\n",
    "        plt.plot(yhat, label=label, linewidth=linewidth)\n",
    "        plt.title(f\"{train.name}\")\n",
    "\n",
    "    if len(predictions) == 1:\n",
    "        label = f'{label} -- MSE: {metric_fmt} RMSE: {metric_fmt}'.format(mse, rmse)\n",
    "        plt.title(f\"{train.name}\\n{label}\")\n",
    "\n",
    "    plt.legend(loc='best')\n",
    "    plt.show()"
   ]
  },
  {
   "cell_type": "code",
   "execution_count": null,
   "metadata": {},
   "outputs": [],
   "source": []
  }
 ],
 "metadata": {
  "kernelspec": {
   "display_name": "Python 3",
   "language": "python",
   "name": "python3"
  },
  "language_info": {
   "codemirror_mode": {
    "name": "ipython",
    "version": 3
   },
   "file_extension": ".py",
   "mimetype": "text/x-python",
   "name": "python",
   "nbconvert_exporter": "python",
   "pygments_lexer": "ipython3",
   "version": "3.7.1"
  }
 },
 "nbformat": 4,
 "nbformat_minor": 2
}
